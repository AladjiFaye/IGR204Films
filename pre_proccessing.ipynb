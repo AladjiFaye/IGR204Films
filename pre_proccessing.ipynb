{
 "cells": [
  {
   "cell_type": "code",
   "execution_count": 2,
   "metadata": {},
   "outputs": [
    {
     "name": "stdout",
     "output_type": "stream",
     "text": [
      "Collecting google_images_download\n",
      "  Downloading https://files.pythonhosted.org/packages/a5/a7/1dc0de31c24d6b93469f46d743f36a7f51406d4e452690706ac5be2a5eab/google_images_download-2.7.1.tar.gz\n",
      "Collecting selenium (from google_images_download)\n",
      "  Downloading https://files.pythonhosted.org/packages/80/d6/4294f0b4bce4de0abf13e17190289f9d0613b0a44e5dd6a7f5ca98459853/selenium-3.141.0-py2.py3-none-any.whl (904kB)\n",
      "Requirement already satisfied: urllib3 in c:\\users\\eliot\\anaconda3\\lib\\site-packages (from selenium->google_images_download) (1.22)\n",
      "Building wheels for collected packages: google-images-download\n",
      "  Building wheel for google-images-download (setup.py): started\n",
      "  Building wheel for google-images-download (setup.py): finished with status 'done'\n",
      "  Stored in directory: C:\\Users\\Eliot\\AppData\\Local\\pip\\Cache\\wheels\\22\\f3\\7b\\d1d7a18d9784458622ef3f9702c0bdbc179b431adde169c1a0\n",
      "Successfully built google-images-download\n",
      "Installing collected packages: selenium, google-images-download\n",
      "Successfully installed google-images-download-2.7.1 selenium-3.141.0\n"
     ]
    }
   ],
   "source": [
    "#!pip install google_images_download"
   ]
  },
  {
   "cell_type": "code",
   "execution_count": 48,
   "metadata": {
    "scrolled": true
   },
   "outputs": [
    {
     "name": "stderr",
     "output_type": "stream",
     "text": [
      "C:\\Users\\Eliot\\Anaconda3\\lib\\site-packages\\pandas\\core\\indexing.py:189: SettingWithCopyWarning: \n",
      "A value is trying to be set on a copy of a slice from a DataFrame\n",
      "\n",
      "See the caveats in the documentation: http://pandas.pydata.org/pandas-docs/stable/indexing.html#indexing-view-versus-copy\n",
      "  self._setitem_with_indexer(indexer, value)\n"
     ]
    }
   ],
   "source": [
    "import pandas as pd\n",
    "data = pd.read_csv('test.csv')\n",
    "\n",
    "columns = data.columns\n",
    "\n",
    "#add the columns\n",
    "str = \"Year;Length;Title;Subject;Actor;Actress;Director;Popularity;Awards;*Image\";\n",
    "res = str.split(\";\");\n",
    "res\n",
    "\n",
    "for str in res:\n",
    "    data[str] = 'default value'\n",
    "    \n",
    "for i in range(len(data)):\n",
    "    str = data[\"Year;Length;Title;Subject;Actor;Actress;Director;Popularity;Awards;*Image\"].iloc[i]\n",
    "    res = str.split(\";\")\n",
    "    \n",
    "    data[\"Year\"].iloc[i] = res[0]\n",
    "    data[\"Length\"].iloc[i] = res[1]\n",
    "    data[\"Title\"].iloc[i] = res[2]\n",
    "    data[\"Subject\"].iloc[i] = res[3]\n",
    "    data[\"Actor\"].iloc[i] = res[4]\n",
    "    data[\"Actress\"].iloc[i] = res[5]\n",
    "    data[\"Director\"].iloc[i] = res[6]\n",
    "    data[\"Popularity\"].iloc[i] = res[7]\n",
    "    data[\"Awards\"].iloc[i] = res[8]\n",
    "    data[\"*Image\"].iloc[i] = res[9]\n",
    "\n",
    "data = data.drop(columns = ['Unnamed: 0', 'Year;Length;Title;Subject;Actor;Actress;Director;Popularity;Awards;*Image'], axis = 1)\n",
    "\n",
    "for i in range(len(data)):\n",
    "    str = data[\"Title\"].iloc[i]\n",
    "    \n",
    "    if \", The\" in str:\n",
    "        data[\"Title\"].iloc[i] = \"The \" + str.replace(\", The\", \"\")\n",
    "\n",
    "data.to_csv('test1.csv')"
   ]
  },
  {
   "cell_type": "code",
   "execution_count": 1,
   "metadata": {
    "scrolled": false
   },
   "outputs": [
    {
     "name": "stderr",
     "output_type": "stream",
     "text": [
      "C:\\Users\\Eliot\\Anaconda3\\lib\\site-packages\\pandas\\core\\indexing.py:189: SettingWithCopyWarning: \n",
      "A value is trying to be set on a copy of a slice from a DataFrame\n",
      "\n",
      "See the caveats in the documentation: http://pandas.pydata.org/pandas-docs/stable/indexing.html#indexing-view-versus-copy\n",
      "  self._setitem_with_indexer(indexer, value)\n"
     ]
    }
   ],
   "source": [
    "import pandas as pd\n",
    "data = pd.read_csv('test1.csv')\n",
    "\n",
    "for i in range(len(data)):\n",
    "    if pd.isnull(data[\"Popularity\"].iloc[i]):\n",
    "        data[\"Popularity\"].iloc[i] = 50\n",
    "        \n",
    "    if pd.isnull(data[\"Subject\"].iloc[i]):\n",
    "        data[\"Subject\"].iloc[i] = \"Unknown\"\n",
    "    \n",
    "    if pd.isnull(data[\"Actor\"].iloc[i]):\n",
    "        data[\"Actor\"].iloc[i] = \"Unknown\"\n",
    "        \n",
    "    if pd.isnull(data[\"Year\"].iloc[i]):\n",
    "        data[\"Year\"].iloc[i] = \"Unknown\"\n",
    "        \n",
    "    if pd.isnull(data[\"Length\"].iloc[i]):\n",
    "        data[\"Length\"].iloc[i] = 120.0\n",
    "        \n",
    "    if pd.isnull(data[\"Actress\"].iloc[i]):\n",
    "        data[\"Actress\"].iloc[i] = \"Unknown\"\n",
    "        \n",
    "    if pd.isnull(data[\"Director\"].iloc[i]):\n",
    "        data[\"Director\"].iloc[i] = \"Unknown\"\n",
    "        \n",
    "    if pd.isnull(data[\"Awards\"].iloc[i]):\n",
    "        data[\"Awards\"].iloc[i] = \"No\"\n",
    "        \n",
    "    \n",
    "        \n",
    "data.to_csv('film_cleaned.csv')"
   ]
  },
  {
   "cell_type": "code",
   "execution_count": null,
   "metadata": {},
   "outputs": [],
   "source": []
  }
 ],
 "metadata": {
  "kernelspec": {
   "display_name": "Python 3",
   "language": "python",
   "name": "python3"
  },
  "language_info": {
   "codemirror_mode": {
    "name": "ipython",
    "version": 3
   },
   "file_extension": ".py",
   "mimetype": "text/x-python",
   "name": "python",
   "nbconvert_exporter": "python",
   "pygments_lexer": "ipython3",
   "version": "3.6.5"
  }
 },
 "nbformat": 4,
 "nbformat_minor": 2
}
