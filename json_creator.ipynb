{
 "cells": [
  {
   "cell_type": "code",
   "execution_count": 72,
   "metadata": {},
   "outputs": [],
   "source": [
    "import pandas as pd\n",
    "data = pd.read_csv('film_cleaned.csv')\n",
    "\n",
    "import csv  \n",
    "import json  \n",
    "import math\n",
    "\n",
    "def createJSON(arg, catNumerique):\n",
    "    dict = {\n",
    "        \"name\" : \"flare\",\n",
    "        \"children\" : []\n",
    "    }\n",
    "    \n",
    "    niveau1 = arg\n",
    "    \n",
    "    if catNumerique:\n",
    "        for cat in data[niveau1].unique():\n",
    "            catConvertie = int(cat)\n",
    "            \n",
    "            children1 = []\n",
    "    \n",
    "            for i in range(len(data)):\n",
    "                if data[niveau1].iloc[i] == catConvertie:\n",
    "                    children1.append({\"name\" : data[\"Title\"].iloc[i], \"value\" : data[\"Popularity\"].iloc[i]+10})\n",
    "                    \n",
    "            if len(children1) == 1:\n",
    "                dict[\"children\"].append(children1[0])\n",
    "            else:\n",
    "                dict[\"children\"].append({\n",
    "                    \"name\" : str(catConvertie),\n",
    "                    \"children\" : children1\n",
    "                })\n",
    "    else:\n",
    "        for cat in data[niveau1].unique():\n",
    "            children1 = []\n",
    "    \n",
    "            for i in range(len(data)):\n",
    "                if data[niveau1].iloc[i] == cat:\n",
    "                    children1.append({\"name\" : data[\"Title\"].iloc[i], \"value\" : data[\"Popularity\"].iloc[i]+10})\n",
    "                    \n",
    "            if len(children1) == 1:\n",
    "                dict[\"children\"].append(children1[0])\n",
    "            else:\n",
    "                dict[\"children\"].append({\n",
    "                    \"name\" : cat,\n",
    "                    \"children\" : children1\n",
    "                })\n",
    "            \n",
    "    return dict\n",
    "\n",
    "\n",
    "\n",
    "def createJSON2(arg1, arg2):\n",
    "    dict = {\n",
    "        \"name\" : \"flare\",\n",
    "        \"children\" : []\n",
    "    }\n",
    "    \n",
    "    niveau1 = arg1\n",
    "    niveau2 = arg2\n",
    "    \n",
    "    for cat in data[niveau1].unique():\n",
    "        if type(cat) is np.float64 or type(cat) is np.int64:\n",
    "            catConvertie = int(cat)\n",
    "        else:\n",
    "            catConvertie = cat\n",
    "        \n",
    "        children3 = {}\n",
    "    \n",
    "        for i in range(len(data)):\n",
    "            if data[niveau1].iloc[i] == catConvertie:\n",
    "                if data[niveau2].iloc[i] not in children3:\n",
    "                    children3[data[niveau2].iloc[i]] = [(data[\"Title\"].iloc[i], data[\"Popularity\"].iloc[i], data[\"Awards\"].iloc[i])]\n",
    "                else:\n",
    "                    children3[data[niveau2].iloc[i]].append((data[\"Title\"].iloc[i], data[\"Popularity\"].iloc[i], data[\"Awards\"].iloc[i]))\n",
    "            \n",
    "    \n",
    "        children1 = []\n",
    "    \n",
    "        for elt in children3:\n",
    "            if type(elt) is np.float64 or type(elt) is np.int64:\n",
    "                eltConverti = int(elt)\n",
    "            else:\n",
    "                eltConverti = elt\n",
    "            \n",
    "            children2 = []\n",
    "        \n",
    "            if len(children3[eltConverti]) == 1:\n",
    "                children1.append({\"name\" : children3[eltConverti][0][0], \"value\" : children3[eltConverti][0][1]+10, \"awards\" : children3[eltConverti][0][2]})\n",
    "            else:\n",
    "                for i in range(len(children3[eltConverti])):\n",
    "                    children2.append({\"name\" : children3[eltConverti][i][0], \"value\" : children3[eltConverti][i][1]+10, \"awards\" : children3[eltConverti][i][2]})\n",
    "        \n",
    "                children1.append({\"name\" : str(eltConverti), \"children\" : children2})\n",
    "        \n",
    "        dict[\"children\"].append({\n",
    "            \"name\" : str(catConvertie),\n",
    "            \"children\" : children1\n",
    "        })\n",
    "    \n",
    "    return dict\n",
    "\n",
    "\n",
    "#out = json.dumps(dict, separators=(',',':'))\n",
    "#f = open( 'parsed.json', 'w')  \n",
    "#f.write(out)\n",
    "#f.close()"
   ]
  },
  {
   "cell_type": "code",
   "execution_count": 31,
   "metadata": {},
   "outputs": [
    {
     "name": "stdout",
     "output_type": "stream",
     "text": [
      "Year\n",
      "Length\n",
      "Title\n",
      "Subject\n",
      "Actor\n",
      "Actress\n",
      "Director\n",
      "Popularity\n",
      "Awards\n"
     ]
    }
   ],
   "source": [
    "dict = {}\n",
    "\n",
    "for elt in data.columns:\n",
    "    print(elt)\n",
    "    if elt == \"Year\" or elt == \"Length\" or elt == \"Popularity\":\n",
    "        dict[elt] = createJSON(elt, True)\n",
    "    else:\n",
    "        dict[elt] = createJSON(elt, False)\n",
    "\n",
    "out = json.dumps(dict, separators=(',',':'))\n",
    "f = open( 'parsed.json', 'w')  \n",
    "f.write(out)\n",
    "f.close()"
   ]
  },
  {
   "cell_type": "code",
   "execution_count": null,
   "metadata": {},
   "outputs": [],
   "source": [
    "dict = {}\n",
    "\n",
    "for elt in data.columns:\n",
    "    print(elt)\n",
    "    if elt == \"Year\" or elt == \"Length\" or elt == \"Popularity\":\n",
    "        dict[elt] = createJSON2(elt, True)\n",
    "    else:\n",
    "        dict[elt] = createJSON2(elt, False)\n",
    "\n",
    "out = json.dumps(dict, separators=(',',':'))\n",
    "f = open( 'parsed2.json', 'w')  \n",
    "f.write(out)\n",
    "f.close()"
   ]
  },
  {
   "cell_type": "code",
   "execution_count": 51,
   "metadata": {},
   "outputs": [
    {
     "name": "stdout",
     "output_type": "stream",
     "text": [
      "ets\n"
     ]
    }
   ],
   "source": [
    "import pandas as pd\n",
    "import numpy as np\n",
    "data = pd.read_csv('film_cleaned.csv')\n",
    "\n",
    "if type(data[\"Length\"].iloc[10]) is np.float64 or type(data[\"Length\"].iloc[10]) is np.int64:\n",
    "    print(\"ets\")"
   ]
  },
  {
   "cell_type": "code",
   "execution_count": 40,
   "metadata": {},
   "outputs": [
    {
     "data": {
      "text/plain": [
       "numpy.int64"
      ]
     },
     "execution_count": 40,
     "metadata": {},
     "output_type": "execute_result"
    }
   ],
   "source": [
    "type(data[\"Year\"].iloc[10])"
   ]
  },
  {
   "cell_type": "code",
   "execution_count": 63,
   "metadata": {},
   "outputs": [],
   "source": [
    "out = json.dumps(createJSON2(\"Subject\", \"Year\"), separators=(',',':'))\n",
    "f = open( 'parsed2.json', 'w')  \n",
    "f.write(out)\n",
    "f.close()"
   ]
  },
  {
   "cell_type": "code",
   "execution_count": 73,
   "metadata": {},
   "outputs": [],
   "source": [
    "dict = {}\n",
    "\n",
    "for elt1 in ['Year', 'Length', 'Title', 'Subject', 'Actor', 'Actress', 'Director', 'Popularity', 'Awards']:\n",
    "    for elt2 in ['Year', 'Length', 'Title', 'Subject', 'Actor', 'Actress', 'Director', 'Popularity', 'Awards']:\n",
    "        if elt2 != elt1:\n",
    "            dict[elt1 + \" \" + elt2] = createJSON2(elt1, elt2)\n",
    "\n",
    "out = json.dumps(dict, separators=(',',':'))\n",
    "f = open( 'parsed2.json', 'w')  \n",
    "f.write(out)\n",
    "f.close()"
   ]
  },
  {
   "cell_type": "code",
   "execution_count": 71,
   "metadata": {},
   "outputs": [
    {
     "name": "stdout",
     "output_type": "stream",
     "text": [
      "Index(['Year', 'Length', 'Title', 'Subject', 'Actor', 'Actress', 'Director',\n",
      "       'Popularity', 'Awards'],\n",
      "      dtype='object')\n",
      "Year Length\n",
      "Year Title\n",
      "Year Subject\n",
      "Year Actor\n",
      "Year Actress\n",
      "Year Director\n",
      "Year Popularity\n",
      "Year Awards\n",
      "Length Year\n",
      "Length Title\n",
      "Length Subject\n",
      "Length Actor\n",
      "Length Actress\n",
      "Length Director\n",
      "Length Popularity\n",
      "Length Awards\n",
      "Title Year\n",
      "Title Length\n",
      "Title Subject\n",
      "Title Actor\n",
      "Title Actress\n",
      "Title Director\n",
      "Title Popularity\n",
      "Title Awards\n",
      "Subject Year\n",
      "Subject Length\n",
      "Subject Title\n",
      "Subject Actor\n",
      "Subject Actress\n",
      "Subject Director\n",
      "Subject Popularity\n",
      "Subject Awards\n",
      "Actor Year\n",
      "Actor Length\n",
      "Actor Title\n",
      "Actor Subject\n",
      "Actor Actress\n",
      "Actor Director\n",
      "Actor Popularity\n",
      "Actor Awards\n",
      "Actress Year\n",
      "Actress Length\n",
      "Actress Title\n",
      "Actress Subject\n",
      "Actress Actor\n",
      "Actress Director\n",
      "Actress Popularity\n",
      "Actress Awards\n",
      "Director Year\n",
      "Director Length\n",
      "Director Title\n",
      "Director Subject\n",
      "Director Actor\n",
      "Director Actress\n",
      "Director Popularity\n",
      "Director Awards\n",
      "Popularity Year\n",
      "Popularity Length\n",
      "Popularity Title\n",
      "Popularity Subject\n",
      "Popularity Actor\n",
      "Popularity Actress\n",
      "Popularity Director\n",
      "Popularity Awards\n",
      "Awards Year\n",
      "Awards Length\n",
      "Awards Title\n",
      "Awards Subject\n",
      "Awards Actor\n",
      "Awards Actress\n",
      "Awards Director\n",
      "Awards Popularity\n"
     ]
    },
    {
     "data": {
      "text/plain": [
       "72"
      ]
     },
     "execution_count": 71,
     "metadata": {},
     "output_type": "execute_result"
    }
   ],
   "source": [
    "t = []\n",
    "print(data.columns)\n",
    "\n",
    "for elt1 in ['Year', 'Length', 'Title', 'Subject', 'Actor', 'Actress', 'Director', 'Popularity', 'Awards']:\n",
    "    for elt2 in ['Year', 'Length', 'Title', 'Subject', 'Actor', 'Actress', 'Director', 'Popularity', 'Awards']:\n",
    "        if elt2 != elt1:\n",
    "            print(elt1 + \" \" + elt2)\n",
    "            \n",
    "len(t)"
   ]
  },
  {
   "cell_type": "code",
   "execution_count": 86,
   "metadata": {},
   "outputs": [
    {
     "name": "stdout",
     "output_type": "stream",
     "text": [
      "{'d': 3}\n"
     ]
    }
   ],
   "source": [
    "elt = \"f\"\n",
    "\n",
    "e = \"d\"\n",
    "\n",
    "dict = {}\n",
    "\n",
    "dict[e] = 3\n",
    "\n",
    "print(dict)"
   ]
  },
  {
   "cell_type": "code",
   "execution_count": 85,
   "metadata": {},
   "outputs": [
    {
     "name": "stdout",
     "output_type": "stream",
     "text": [
      "{'d': 3}\n"
     ]
    }
   ],
   "source": []
  },
  {
   "cell_type": "code",
   "execution_count": null,
   "metadata": {},
   "outputs": [],
   "source": []
  }
 ],
 "metadata": {
  "kernelspec": {
   "display_name": "Python 3",
   "language": "python",
   "name": "python3"
  },
  "language_info": {
   "codemirror_mode": {
    "name": "ipython",
    "version": 3
   },
   "file_extension": ".py",
   "mimetype": "text/x-python",
   "name": "python",
   "nbconvert_exporter": "python",
   "pygments_lexer": "ipython3",
   "version": "3.6.5"
  }
 },
 "nbformat": 4,
 "nbformat_minor": 2
}
